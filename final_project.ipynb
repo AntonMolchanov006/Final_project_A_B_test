{
 "cells": [
  {
   "cell_type": "markdown",
   "id": "4990d739",
   "metadata": {},
   "source": [
    "## Задание.\n",
    "\n",
    "Проанализируйте результаты эксперимента и напишите свои рекомендации менеджеру.\n",
    "\n",
    "Mobile Games AB Testing with Cookie Cats"
   ]
  },
  {
   "cell_type": "code",
   "execution_count": 1,
   "id": "7b7f3a20",
   "metadata": {},
   "outputs": [],
   "source": [
    "import numpy as np\n",
    "import scipy.stats as stats\n",
    "import pandas as pd\n",
    "import statsmodels.stats as sts\n",
    "import matplotlib.pyplot as plt"
   ]
  },
  {
   "cell_type": "code",
   "execution_count": 2,
   "id": "fb7c094f",
   "metadata": {},
   "outputs": [
    {
     "data": {
      "text/html": [
       "<div>\n",
       "<style scoped>\n",
       "    .dataframe tbody tr th:only-of-type {\n",
       "        vertical-align: middle;\n",
       "    }\n",
       "\n",
       "    .dataframe tbody tr th {\n",
       "        vertical-align: top;\n",
       "    }\n",
       "\n",
       "    .dataframe thead th {\n",
       "        text-align: right;\n",
       "    }\n",
       "</style>\n",
       "<table border=\"1\" class=\"dataframe\">\n",
       "  <thead>\n",
       "    <tr style=\"text-align: right;\">\n",
       "      <th></th>\n",
       "      <th>userid</th>\n",
       "      <th>version</th>\n",
       "      <th>sum_gamerounds</th>\n",
       "      <th>retention_1</th>\n",
       "      <th>retention_7</th>\n",
       "    </tr>\n",
       "  </thead>\n",
       "  <tbody>\n",
       "    <tr>\n",
       "      <th>0</th>\n",
       "      <td>116</td>\n",
       "      <td>gate_30</td>\n",
       "      <td>3</td>\n",
       "      <td>0</td>\n",
       "      <td>0</td>\n",
       "    </tr>\n",
       "    <tr>\n",
       "      <th>1</th>\n",
       "      <td>337</td>\n",
       "      <td>gate_30</td>\n",
       "      <td>38</td>\n",
       "      <td>1</td>\n",
       "      <td>0</td>\n",
       "    </tr>\n",
       "    <tr>\n",
       "      <th>2</th>\n",
       "      <td>377</td>\n",
       "      <td>gate_40</td>\n",
       "      <td>165</td>\n",
       "      <td>1</td>\n",
       "      <td>0</td>\n",
       "    </tr>\n",
       "    <tr>\n",
       "      <th>3</th>\n",
       "      <td>483</td>\n",
       "      <td>gate_40</td>\n",
       "      <td>1</td>\n",
       "      <td>0</td>\n",
       "      <td>0</td>\n",
       "    </tr>\n",
       "    <tr>\n",
       "      <th>4</th>\n",
       "      <td>488</td>\n",
       "      <td>gate_40</td>\n",
       "      <td>179</td>\n",
       "      <td>1</td>\n",
       "      <td>1</td>\n",
       "    </tr>\n",
       "    <tr>\n",
       "      <th>5</th>\n",
       "      <td>540</td>\n",
       "      <td>gate_40</td>\n",
       "      <td>187</td>\n",
       "      <td>1</td>\n",
       "      <td>1</td>\n",
       "    </tr>\n",
       "    <tr>\n",
       "      <th>6</th>\n",
       "      <td>1066</td>\n",
       "      <td>gate_30</td>\n",
       "      <td>0</td>\n",
       "      <td>0</td>\n",
       "      <td>0</td>\n",
       "    </tr>\n",
       "    <tr>\n",
       "      <th>7</th>\n",
       "      <td>1444</td>\n",
       "      <td>gate_40</td>\n",
       "      <td>2</td>\n",
       "      <td>0</td>\n",
       "      <td>0</td>\n",
       "    </tr>\n",
       "    <tr>\n",
       "      <th>8</th>\n",
       "      <td>1574</td>\n",
       "      <td>gate_40</td>\n",
       "      <td>108</td>\n",
       "      <td>1</td>\n",
       "      <td>1</td>\n",
       "    </tr>\n",
       "    <tr>\n",
       "      <th>9</th>\n",
       "      <td>1587</td>\n",
       "      <td>gate_40</td>\n",
       "      <td>153</td>\n",
       "      <td>1</td>\n",
       "      <td>0</td>\n",
       "    </tr>\n",
       "  </tbody>\n",
       "</table>\n",
       "</div>"
      ],
      "text/plain": [
       "   userid  version  sum_gamerounds  retention_1  retention_7\n",
       "0     116  gate_30               3            0            0\n",
       "1     337  gate_30              38            1            0\n",
       "2     377  gate_40             165            1            0\n",
       "3     483  gate_40               1            0            0\n",
       "4     488  gate_40             179            1            1\n",
       "5     540  gate_40             187            1            1\n",
       "6    1066  gate_30               0            0            0\n",
       "7    1444  gate_40               2            0            0\n",
       "8    1574  gate_40             108            1            1\n",
       "9    1587  gate_40             153            1            0"
      ]
     },
     "execution_count": 2,
     "metadata": {},
     "output_type": "execute_result"
    }
   ],
   "source": [
    "data = pd.read_csv('A_B_cookie_cats2.csv')\n",
    "data.head(10)"
   ]
  },
  {
   "cell_type": "code",
   "execution_count": 3,
   "id": "2253d3de",
   "metadata": {},
   "outputs": [
    {
     "name": "stdout",
     "output_type": "stream",
     "text": [
      "<class 'pandas.core.frame.DataFrame'>\n",
      "RangeIndex: 90189 entries, 0 to 90188\n",
      "Data columns (total 5 columns):\n",
      " #   Column          Non-Null Count  Dtype \n",
      "---  ------          --------------  ----- \n",
      " 0   userid          90189 non-null  int64 \n",
      " 1   version         90189 non-null  object\n",
      " 2   sum_gamerounds  90189 non-null  int64 \n",
      " 3   retention_1     90189 non-null  int64 \n",
      " 4   retention_7     90189 non-null  int64 \n",
      "dtypes: int64(4), object(1)\n",
      "memory usage: 3.4+ MB\n"
     ]
    }
   ],
   "source": [
    "data.info()"
   ]
  },
  {
   "cell_type": "code",
   "execution_count": 4,
   "id": "9fbbb0ab",
   "metadata": {},
   "outputs": [
    {
     "data": {
      "text/html": [
       "<div>\n",
       "<style scoped>\n",
       "    .dataframe tbody tr th:only-of-type {\n",
       "        vertical-align: middle;\n",
       "    }\n",
       "\n",
       "    .dataframe tbody tr th {\n",
       "        vertical-align: top;\n",
       "    }\n",
       "\n",
       "    .dataframe thead th {\n",
       "        text-align: right;\n",
       "    }\n",
       "</style>\n",
       "<table border=\"1\" class=\"dataframe\">\n",
       "  <thead>\n",
       "    <tr style=\"text-align: right;\">\n",
       "      <th></th>\n",
       "      <th>userid</th>\n",
       "      <th>sum_gamerounds</th>\n",
       "      <th>retention_1</th>\n",
       "      <th>retention_7</th>\n",
       "    </tr>\n",
       "  </thead>\n",
       "  <tbody>\n",
       "    <tr>\n",
       "      <th>count</th>\n",
       "      <td>9.018900e+04</td>\n",
       "      <td>90189.000000</td>\n",
       "      <td>90189.000000</td>\n",
       "      <td>90189.000000</td>\n",
       "    </tr>\n",
       "    <tr>\n",
       "      <th>mean</th>\n",
       "      <td>4.998412e+06</td>\n",
       "      <td>51.872457</td>\n",
       "      <td>0.445210</td>\n",
       "      <td>0.186065</td>\n",
       "    </tr>\n",
       "    <tr>\n",
       "      <th>std</th>\n",
       "      <td>2.883286e+06</td>\n",
       "      <td>195.050858</td>\n",
       "      <td>0.496992</td>\n",
       "      <td>0.389161</td>\n",
       "    </tr>\n",
       "    <tr>\n",
       "      <th>min</th>\n",
       "      <td>1.160000e+02</td>\n",
       "      <td>0.000000</td>\n",
       "      <td>0.000000</td>\n",
       "      <td>0.000000</td>\n",
       "    </tr>\n",
       "    <tr>\n",
       "      <th>25%</th>\n",
       "      <td>2.512230e+06</td>\n",
       "      <td>5.000000</td>\n",
       "      <td>0.000000</td>\n",
       "      <td>0.000000</td>\n",
       "    </tr>\n",
       "    <tr>\n",
       "      <th>50%</th>\n",
       "      <td>4.995815e+06</td>\n",
       "      <td>16.000000</td>\n",
       "      <td>0.000000</td>\n",
       "      <td>0.000000</td>\n",
       "    </tr>\n",
       "    <tr>\n",
       "      <th>75%</th>\n",
       "      <td>7.496452e+06</td>\n",
       "      <td>51.000000</td>\n",
       "      <td>1.000000</td>\n",
       "      <td>0.000000</td>\n",
       "    </tr>\n",
       "    <tr>\n",
       "      <th>max</th>\n",
       "      <td>9.999861e+06</td>\n",
       "      <td>49854.000000</td>\n",
       "      <td>1.000000</td>\n",
       "      <td>1.000000</td>\n",
       "    </tr>\n",
       "  </tbody>\n",
       "</table>\n",
       "</div>"
      ],
      "text/plain": [
       "             userid  sum_gamerounds   retention_1   retention_7\n",
       "count  9.018900e+04    90189.000000  90189.000000  90189.000000\n",
       "mean   4.998412e+06       51.872457      0.445210      0.186065\n",
       "std    2.883286e+06      195.050858      0.496992      0.389161\n",
       "min    1.160000e+02        0.000000      0.000000      0.000000\n",
       "25%    2.512230e+06        5.000000      0.000000      0.000000\n",
       "50%    4.995815e+06       16.000000      0.000000      0.000000\n",
       "75%    7.496452e+06       51.000000      1.000000      0.000000\n",
       "max    9.999861e+06    49854.000000      1.000000      1.000000"
      ]
     },
     "execution_count": 4,
     "metadata": {},
     "output_type": "execute_result"
    }
   ],
   "source": [
    "data.describe()"
   ]
  },
  {
   "cell_type": "code",
   "execution_count": 5,
   "id": "8e502071",
   "metadata": {},
   "outputs": [
    {
     "data": {
      "text/plain": [
       "array(['gate_30', 'gate_40'], dtype=object)"
      ]
     },
     "execution_count": 5,
     "metadata": {},
     "output_type": "execute_result"
    }
   ],
   "source": [
    "data.version.unique()"
   ]
  },
  {
   "cell_type": "code",
   "execution_count": 6,
   "id": "35b60ce8",
   "metadata": {},
   "outputs": [
    {
     "data": {
      "text/html": [
       "<div>\n",
       "<style scoped>\n",
       "    .dataframe tbody tr th:only-of-type {\n",
       "        vertical-align: middle;\n",
       "    }\n",
       "\n",
       "    .dataframe tbody tr th {\n",
       "        vertical-align: top;\n",
       "    }\n",
       "\n",
       "    .dataframe thead th {\n",
       "        text-align: right;\n",
       "    }\n",
       "</style>\n",
       "<table border=\"1\" class=\"dataframe\">\n",
       "  <thead>\n",
       "    <tr style=\"text-align: right;\">\n",
       "      <th></th>\n",
       "      <th>userid</th>\n",
       "      <th>sum_gamerounds</th>\n",
       "      <th>retention_1</th>\n",
       "      <th>retention_7</th>\n",
       "    </tr>\n",
       "  </thead>\n",
       "  <tbody>\n",
       "    <tr>\n",
       "      <th>count</th>\n",
       "      <td>9.018800e+04</td>\n",
       "      <td>90188.000000</td>\n",
       "      <td>90188.000000</td>\n",
       "      <td>90188.000000</td>\n",
       "    </tr>\n",
       "    <tr>\n",
       "      <th>mean</th>\n",
       "      <td>4.998397e+06</td>\n",
       "      <td>51.320253</td>\n",
       "      <td>0.445214</td>\n",
       "      <td>0.186056</td>\n",
       "    </tr>\n",
       "    <tr>\n",
       "      <th>std</th>\n",
       "      <td>2.883298e+06</td>\n",
       "      <td>102.682719</td>\n",
       "      <td>0.496992</td>\n",
       "      <td>0.389154</td>\n",
       "    </tr>\n",
       "    <tr>\n",
       "      <th>min</th>\n",
       "      <td>1.160000e+02</td>\n",
       "      <td>0.000000</td>\n",
       "      <td>0.000000</td>\n",
       "      <td>0.000000</td>\n",
       "    </tr>\n",
       "    <tr>\n",
       "      <th>25%</th>\n",
       "      <td>2.512211e+06</td>\n",
       "      <td>5.000000</td>\n",
       "      <td>0.000000</td>\n",
       "      <td>0.000000</td>\n",
       "    </tr>\n",
       "    <tr>\n",
       "      <th>50%</th>\n",
       "      <td>4.995804e+06</td>\n",
       "      <td>16.000000</td>\n",
       "      <td>0.000000</td>\n",
       "      <td>0.000000</td>\n",
       "    </tr>\n",
       "    <tr>\n",
       "      <th>75%</th>\n",
       "      <td>7.496461e+06</td>\n",
       "      <td>51.000000</td>\n",
       "      <td>1.000000</td>\n",
       "      <td>0.000000</td>\n",
       "    </tr>\n",
       "    <tr>\n",
       "      <th>max</th>\n",
       "      <td>9.999861e+06</td>\n",
       "      <td>2961.000000</td>\n",
       "      <td>1.000000</td>\n",
       "      <td>1.000000</td>\n",
       "    </tr>\n",
       "  </tbody>\n",
       "</table>\n",
       "</div>"
      ],
      "text/plain": [
       "             userid  sum_gamerounds   retention_1   retention_7\n",
       "count  9.018800e+04    90188.000000  90188.000000  90188.000000\n",
       "mean   4.998397e+06       51.320253      0.445214      0.186056\n",
       "std    2.883298e+06      102.682719      0.496992      0.389154\n",
       "min    1.160000e+02        0.000000      0.000000      0.000000\n",
       "25%    2.512211e+06        5.000000      0.000000      0.000000\n",
       "50%    4.995804e+06       16.000000      0.000000      0.000000\n",
       "75%    7.496461e+06       51.000000      1.000000      0.000000\n",
       "max    9.999861e+06     2961.000000      1.000000      1.000000"
      ]
     },
     "execution_count": 6,
     "metadata": {},
     "output_type": "execute_result"
    }
   ],
   "source": [
    "data = data[data.sum_gamerounds<3000]\n",
    "data.describe()"
   ]
  },
  {
   "cell_type": "code",
   "execution_count": 7,
   "id": "82634b55",
   "metadata": {},
   "outputs": [
    {
     "data": {
      "text/plain": [
       "version\n",
       "False    45489\n",
       "True     44699\n",
       "Name: version, dtype: int64"
      ]
     },
     "execution_count": 7,
     "metadata": {},
     "output_type": "execute_result"
    }
   ],
   "source": [
    "group_30 = data.version.groupby(data.version == 'gate_30').count()\n",
    "group_40 = data.version.groupby(data.version == 'gate_40').count()\n",
    "group_30"
   ]
  },
  {
   "cell_type": "code",
   "execution_count": 8,
   "id": "9f0221a5",
   "metadata": {},
   "outputs": [
    {
     "data": {
      "text/plain": [
       "version\n",
       "False    44699\n",
       "True     45489\n",
       "Name: version, dtype: int64"
      ]
     },
     "execution_count": 8,
     "metadata": {},
     "output_type": "execute_result"
    }
   ],
   "source": [
    "group_40"
   ]
  },
  {
   "cell_type": "markdown",
   "id": "c5f8599d",
   "metadata": {},
   "source": [
    "Проверили, что наши данные разделены равномерно. Можем продолжать анализ"
   ]
  },
  {
   "cell_type": "markdown",
   "id": "a58013ef",
   "metadata": {},
   "source": [
    "Проверяем наши группы на нормальность распределения с помощья теста Колмогорова-Смирнова."
   ]
  },
  {
   "cell_type": "code",
   "execution_count": 9,
   "id": "e32d44fe",
   "metadata": {},
   "outputs": [
    {
     "name": "stdout",
     "output_type": "stream",
     "text": [
      "KstestResult(statistic=0.8724153079945488, pvalue=0.0)\n",
      "KstestResult(statistic=0.8707186187388001, pvalue=0.0)\n"
     ]
    }
   ],
   "source": [
    "print(stats.kstest(data['sum_gamerounds'][data.version == 'gate_30'], 'norm'))\n",
    "print(stats.kstest(data['sum_gamerounds'][data.version == 'gate_40'], 'norm'))"
   ]
  },
  {
   "cell_type": "markdown",
   "id": "eda26567",
   "metadata": {},
   "source": [
    "Распределения в обеих группах ненормальное - значит используем тест Манна-Уитни для сравнения."
   ]
  },
  {
   "cell_type": "code",
   "execution_count": 10,
   "id": "39c8b0b2",
   "metadata": {},
   "outputs": [
    {
     "data": {
      "text/plain": [
       "MannwhitneyuResult(statistic=1024285761.5, pvalue=0.05089155279145376)"
      ]
     },
     "execution_count": 10,
     "metadata": {},
     "output_type": "execute_result"
    }
   ],
   "source": [
    "stats.mannwhitneyu(data[data.version == 'gate_30'].sum_gamerounds, data[data.version == 'gate_40'].sum_gamerounds)"
   ]
  },
  {
   "cell_type": "markdown",
   "id": "9ee741bb",
   "metadata": {},
   "source": [
    "p-value получился 5% - что не может нам достоверно показать имеются статистически значимые различия между группами."
   ]
  },
  {
   "cell_type": "markdown",
   "id": "1ebc40eb",
   "metadata": {},
   "source": [
    "Построим график, чтобы визуально проанализировать сколько раундов играют юзеры."
   ]
  },
  {
   "cell_type": "code",
   "execution_count": 11,
   "id": "0872300a",
   "metadata": {},
   "outputs": [
    {
     "data": {
      "text/plain": [
       "Text(0.5, 1.0, 'Количество сыгранных раундов игроками за неделю')"
      ]
     },
     "execution_count": 11,
     "metadata": {},
     "output_type": "execute_result"
    },
    {
     "data": {
      "image/png": "[encoded data removed]",
      "text/plain": [
       "<Figure size 432x288 with 1 Axes>"
      ]
     },
     "metadata": {
      "needs_background": "light"
     },
     "output_type": "display_data"
    }
   ],
   "source": [
    "data_plot = data.groupby('sum_gamerounds').count()\n",
    "plt.plot(data_plot[:100])\n",
    "plt.xlabel('Всего сыграно раундов')\n",
    "plt.ylabel('Количество игроков')\n",
    "plt.title('Количество сыгранных раундов игроками за неделю')"
   ]
  },
  {
   "cell_type": "markdown",
   "id": "a4bd3845",
   "metadata": {},
   "source": [
    "Большая часть игроков играет менее 20 раундов за игру. "
   ]
  },
  {
   "cell_type": "code",
   "execution_count": 12,
   "id": "95049375",
   "metadata": {},
   "outputs": [
    {
     "name": "stdout",
     "output_type": "stream",
     "text": [
      "        userid  version  sum_gamerounds  retention_1  retention_7\n",
      "0          116  gate_30               3            0            0\n",
      "1          337  gate_30              38            1            0\n",
      "6         1066  gate_30               0            0            0\n",
      "11        2101  gate_30               0            0            0\n",
      "13        2179  gate_30              39            1            0\n",
      "...        ...      ...             ...          ...          ...\n",
      "90179  9998576  gate_30              14            1            0\n",
      "90180  9998623  gate_30               7            0            0\n",
      "90182  9999178  gate_30              21            1            0\n",
      "90183  9999349  gate_30              10            0            0\n",
      "90186  9999710  gate_30              28            1            0\n",
      "\n",
      "[44699 rows x 5 columns]\n",
      "        userid  version  sum_gamerounds  retention_1  retention_7\n",
      "2          377  gate_40             165            1            0\n",
      "3          483  gate_40               1            0            0\n",
      "4          488  gate_40             179            1            1\n",
      "5          540  gate_40             187            1            1\n",
      "7         1444  gate_40               2            0            0\n",
      "...        ...      ...             ...          ...          ...\n",
      "90181  9998733  gate_40              10            1            0\n",
      "90184  9999441  gate_40              97            1            0\n",
      "90185  9999479  gate_40              30            0            0\n",
      "90187  9999768  gate_40              51            1            0\n",
      "90188  9999861  gate_40              16            0            0\n",
      "\n",
      "[45489 rows x 5 columns]\n"
     ]
    }
   ],
   "source": [
    "plt.style.use('ggplot')\n",
    "\n",
    "Group_A = data[data.version == 'gate_30']\n",
    "print(Group_A)\n",
    "\n",
    "Group_B = data[data.version == 'gate_40']\n",
    "print(Group_B)\n",
    "\n",
    "bins = [0,1,10,20,30,40,50,60,70,80,90,100,200,500]\n",
    "plot_GA=pd.DataFrame(Group_A.groupby(pd.cut(Group_A['sum_gamerounds'], bins = bins)).count())\n",
    "plot_GB = pd.DataFrame(Group_B.groupby(pd.cut(Group_B['sum_gamerounds'], bins= bins)).count())"
   ]
  },
  {
   "cell_type": "code",
   "execution_count": 13,
   "id": "f572d2f6",
   "metadata": {},
   "outputs": [
    {
     "data": {
      "image/png": "[encoded data removed]",
      "text/plain": [
       "<Figure size 432x288 with 1 Axes>"
      ]
     },
     "metadata": {},
     "output_type": "display_data"
    }
   ],
   "source": [
    "ax = plot_GA.plot(kind= 'bar', y= 'userid', color= 'blue', alpha= 1,\n",
    "                 title= 'Общее распределение по группам')\n",
    "plot_GB.plot(kind= 'bar', y= 'userid', ax= ax, color= 'red', alpha= 0.7)\n",
    "ax.set_xlabel('Сыграно раундов')\n",
    "ax.set_ylabel('Количество игроков')\n",
    "plt.legend(['Group_A', 'Group_B'])\n",
    "plt.tight_layout()\n",
    "plt.grid(True)"
   ]
  },
  {
   "cell_type": "code",
   "execution_count": 14,
   "id": "8b3705c8",
   "metadata": {},
   "outputs": [
    {
     "data": {
      "text/plain": [
       "0.4452144409455803"
      ]
     },
     "execution_count": 14,
     "metadata": {},
     "output_type": "execute_result"
    }
   ],
   "source": [
    "oneday = data.retention_1.sum()/data.retention_1.count()\n",
    "oneday"
   ]
  },
  {
   "cell_type": "code",
   "execution_count": 15,
   "id": "167677d7",
   "metadata": {},
   "outputs": [
    {
     "data": {
      "text/plain": [
       "version\n",
       "gate_30    0.448198\n",
       "gate_40    0.442283\n",
       "Name: retention_1, dtype: float64"
      ]
     },
     "execution_count": 15,
     "metadata": {},
     "output_type": "execute_result"
    }
   ],
   "source": [
    "oneday = data.retention_1.groupby(data.version).sum()/data.retention_1.groupby(data.version).count()\n",
    "oneday"
   ]
  },
  {
   "cell_type": "code",
   "execution_count": 16,
   "id": "99a9dce8",
   "metadata": {},
   "outputs": [
    {
     "data": {
      "text/html": [
       "<div>\n",
       "<style scoped>\n",
       "    .dataframe tbody tr th:only-of-type {\n",
       "        vertical-align: middle;\n",
       "    }\n",
       "\n",
       "    .dataframe tbody tr th {\n",
       "        vertical-align: top;\n",
       "    }\n",
       "\n",
       "    .dataframe thead th {\n",
       "        text-align: right;\n",
       "    }\n",
       "</style>\n",
       "<table border=\"1\" class=\"dataframe\">\n",
       "  <thead>\n",
       "    <tr style=\"text-align: right;\">\n",
       "      <th>version</th>\n",
       "      <th>gate_30</th>\n",
       "      <th>gate_40</th>\n",
       "    </tr>\n",
       "  </thead>\n",
       "  <tbody>\n",
       "    <tr>\n",
       "      <th>retention_1</th>\n",
       "      <td>0.447226</td>\n",
       "      <td>0.444611</td>\n",
       "    </tr>\n",
       "    <tr>\n",
       "      <th>retention_1</th>\n",
       "      <td>0.451923</td>\n",
       "      <td>0.440720</td>\n",
       "    </tr>\n",
       "    <tr>\n",
       "      <th>retention_1</th>\n",
       "      <td>0.449722</td>\n",
       "      <td>0.441786</td>\n",
       "    </tr>\n",
       "    <tr>\n",
       "      <th>retention_1</th>\n",
       "      <td>0.449794</td>\n",
       "      <td>0.440777</td>\n",
       "    </tr>\n",
       "    <tr>\n",
       "      <th>retention_1</th>\n",
       "      <td>0.445808</td>\n",
       "      <td>0.445973</td>\n",
       "    </tr>\n",
       "    <tr>\n",
       "      <th>...</th>\n",
       "      <td>...</td>\n",
       "      <td>...</td>\n",
       "    </tr>\n",
       "    <tr>\n",
       "      <th>retention_1</th>\n",
       "      <td>0.446892</td>\n",
       "      <td>0.439965</td>\n",
       "    </tr>\n",
       "    <tr>\n",
       "      <th>retention_1</th>\n",
       "      <td>0.444447</td>\n",
       "      <td>0.443051</td>\n",
       "    </tr>\n",
       "    <tr>\n",
       "      <th>retention_1</th>\n",
       "      <td>0.447736</td>\n",
       "      <td>0.438970</td>\n",
       "    </tr>\n",
       "    <tr>\n",
       "      <th>retention_1</th>\n",
       "      <td>0.449077</td>\n",
       "      <td>0.440068</td>\n",
       "    </tr>\n",
       "    <tr>\n",
       "      <th>retention_1</th>\n",
       "      <td>0.450254</td>\n",
       "      <td>0.445084</td>\n",
       "    </tr>\n",
       "  </tbody>\n",
       "</table>\n",
       "<p>500 rows × 2 columns</p>\n",
       "</div>"
      ],
      "text/plain": [
       "version       gate_30   gate_40\n",
       "retention_1  0.447226  0.444611\n",
       "retention_1  0.451923  0.440720\n",
       "retention_1  0.449722  0.441786\n",
       "retention_1  0.449794  0.440777\n",
       "retention_1  0.445808  0.445973\n",
       "...               ...       ...\n",
       "retention_1  0.446892  0.439965\n",
       "retention_1  0.444447  0.443051\n",
       "retention_1  0.447736  0.438970\n",
       "retention_1  0.449077  0.440068\n",
       "retention_1  0.450254  0.445084\n",
       "\n",
       "[500 rows x 2 columns]"
      ]
     },
     "execution_count": 16,
     "metadata": {},
     "output_type": "execute_result"
    }
   ],
   "source": [
    "boot_1d = []\n",
    "for i in range(500):\n",
    "    boot_mean = data.retention_1.sample(frac= 1, replace= True).groupby(data.version).mean()\n",
    "    boot_1d.append(boot_mean)\n",
    "boot_1d = pd.DataFrame(boot_1d)\n",
    "boot_1d"
   ]
  },
  {
   "cell_type": "code",
   "execution_count": 17,
   "id": "2d23dc0a",
   "metadata": {},
   "outputs": [
    {
     "data": {
      "text/plain": [
       "Text(0.5, 0, 'Среднее RETENTION')"
      ]
     },
     "execution_count": 17,
     "metadata": {},
     "output_type": "execute_result"
    },
    {
     "data": {
      "image/png": "[encoded data removed]",
      "text/plain": [
       "<Figure size 432x288 with 1 Axes>"
      ]
     },
     "metadata": {},
     "output_type": "display_data"
    }
   ],
   "source": [
    "ax = boot_1d.plot.kde()\n",
    "ax.set_title('Среднее RETENTION для каждой группы')\n",
    "ax.set_xlabel('Среднее RETENTION')"
   ]
  },
  {
   "cell_type": "code",
   "execution_count": 18,
   "id": "70b4080a",
   "metadata": {},
   "outputs": [
    {
     "data": {
      "text/plain": [
       "Text(0.5, 1.0, 'разница')"
      ]
     },
     "execution_count": 18,
     "metadata": {},
     "output_type": "execute_result"
    },
    {
     "data": {
      "image/png": "[encoded data removed]",
      "text/plain": [
       "<Figure size 432x288 with 1 Axes>"
      ]
     },
     "metadata": {},
     "output_type": "display_data"
    }
   ],
   "source": [
    "boot_1d['difference'] = (boot_1d['gate_30'] - boot_1d['gate_40'])/boot_1d['gate_40'] * 100\n",
    "ax = boot_1d['difference'].plot.kde()\n",
    "ax.set_xlabel('Разница между группамим, %')\n",
    "ax.set_title('разница')"
   ]
  },
  {
   "cell_type": "code",
   "execution_count": 19,
   "id": "74e3e240",
   "metadata": {},
   "outputs": [
    {
     "data": {
      "text/plain": [
       "0.966"
      ]
     },
     "execution_count": 19,
     "metadata": {},
     "output_type": "execute_result"
    }
   ],
   "source": [
    "prob = (boot_1d['difference']>0).sum()/len(boot_1d['difference'])\n",
    "prob"
   ]
  },
  {
   "cell_type": "markdown",
   "id": "b17de152",
   "metadata": {},
   "source": [
    "Теперь подобным же образом исследуем Retention 7-day "
   ]
  },
  {
   "cell_type": "code",
   "execution_count": 20,
   "id": "4c99a5ca",
   "metadata": {},
   "outputs": [
    {
     "data": {
      "text/plain": [
       "version\n",
       "gate_30    0.190183\n",
       "gate_40    0.182000\n",
       "Name: retention_7, dtype: float64"
      ]
     },
     "execution_count": 20,
     "metadata": {},
     "output_type": "execute_result"
    }
   ],
   "source": [
    "day_7 = data.retention_7.groupby(data.version).sum()/data.retention_7.groupby(data.version).count()\n",
    "day_7"
   ]
  },
  {
   "cell_type": "code",
   "execution_count": 21,
   "id": "a6577ef9",
   "metadata": {},
   "outputs": [
    {
     "data": {
      "text/html": [
       "<div>\n",
       "<style scoped>\n",
       "    .dataframe tbody tr th:only-of-type {\n",
       "        vertical-align: middle;\n",
       "    }\n",
       "\n",
       "    .dataframe tbody tr th {\n",
       "        vertical-align: top;\n",
       "    }\n",
       "\n",
       "    .dataframe thead th {\n",
       "        text-align: right;\n",
       "    }\n",
       "</style>\n",
       "<table border=\"1\" class=\"dataframe\">\n",
       "  <thead>\n",
       "    <tr style=\"text-align: right;\">\n",
       "      <th>version</th>\n",
       "      <th>gate_30</th>\n",
       "      <th>gate_40</th>\n",
       "    </tr>\n",
       "  </thead>\n",
       "  <tbody>\n",
       "    <tr>\n",
       "      <th>retention_7</th>\n",
       "      <td>0.189933</td>\n",
       "      <td>0.185363</td>\n",
       "    </tr>\n",
       "    <tr>\n",
       "      <th>retention_7</th>\n",
       "      <td>0.191288</td>\n",
       "      <td>0.182761</td>\n",
       "    </tr>\n",
       "    <tr>\n",
       "      <th>retention_7</th>\n",
       "      <td>0.186649</td>\n",
       "      <td>0.180686</td>\n",
       "    </tr>\n",
       "    <tr>\n",
       "      <th>retention_7</th>\n",
       "      <td>0.185676</td>\n",
       "      <td>0.182369</td>\n",
       "    </tr>\n",
       "    <tr>\n",
       "      <th>retention_7</th>\n",
       "      <td>0.188350</td>\n",
       "      <td>0.182535</td>\n",
       "    </tr>\n",
       "    <tr>\n",
       "      <th>...</th>\n",
       "      <td>...</td>\n",
       "      <td>...</td>\n",
       "    </tr>\n",
       "    <tr>\n",
       "      <th>retention_7</th>\n",
       "      <td>0.189711</td>\n",
       "      <td>0.179666</td>\n",
       "    </tr>\n",
       "    <tr>\n",
       "      <th>retention_7</th>\n",
       "      <td>0.194153</td>\n",
       "      <td>0.181804</td>\n",
       "    </tr>\n",
       "    <tr>\n",
       "      <th>retention_7</th>\n",
       "      <td>0.186825</td>\n",
       "      <td>0.181706</td>\n",
       "    </tr>\n",
       "    <tr>\n",
       "      <th>retention_7</th>\n",
       "      <td>0.191377</td>\n",
       "      <td>0.179441</td>\n",
       "    </tr>\n",
       "    <tr>\n",
       "      <th>retention_7</th>\n",
       "      <td>0.188116</td>\n",
       "      <td>0.180532</td>\n",
       "    </tr>\n",
       "  </tbody>\n",
       "</table>\n",
       "<p>500 rows × 2 columns</p>\n",
       "</div>"
      ],
      "text/plain": [
       "version       gate_30   gate_40\n",
       "retention_7  0.189933  0.185363\n",
       "retention_7  0.191288  0.182761\n",
       "retention_7  0.186649  0.180686\n",
       "retention_7  0.185676  0.182369\n",
       "retention_7  0.188350  0.182535\n",
       "...               ...       ...\n",
       "retention_7  0.189711  0.179666\n",
       "retention_7  0.194153  0.181804\n",
       "retention_7  0.186825  0.181706\n",
       "retention_7  0.191377  0.179441\n",
       "retention_7  0.188116  0.180532\n",
       "\n",
       "[500 rows x 2 columns]"
      ]
     },
     "execution_count": 21,
     "metadata": {},
     "output_type": "execute_result"
    }
   ],
   "source": [
    "boot_7d = []\n",
    "for i in range(500):\n",
    "    boot_mean = data.retention_7.sample(frac= 1, replace= True).groupby(data.version).mean()\n",
    "    boot_7d.append(boot_mean)\n",
    "boot_7d = pd.DataFrame(boot_7d)\n",
    "boot_7d"
   ]
  },
  {
   "cell_type": "code",
   "execution_count": 22,
   "id": "398a9e1c",
   "metadata": {},
   "outputs": [
    {
     "data": {
      "text/plain": [
       "Text(0.5, 0, 'Среднее RETENTION')"
      ]
     },
     "execution_count": 22,
     "metadata": {},
     "output_type": "execute_result"
    },
    {
     "data": {
      "image/png": "[encoded data removed]",
      "text/plain": [
       "<Figure size 432x288 with 1 Axes>"
      ]
     },
     "metadata": {},
     "output_type": "display_data"
    }
   ],
   "source": [
    "ax = boot_7d.plot.kde()\n",
    "ax.set_title('Среднее RETENTION для каждой группы')\n",
    "ax.set_xlabel('Среднее RETENTION')"
   ]
  },
  {
   "cell_type": "code",
   "execution_count": 23,
   "id": "490eaca1",
   "metadata": {},
   "outputs": [
    {
     "data": {
      "text/plain": [
       "Text(0.5, 1.0, 'разница')"
      ]
     },
     "execution_count": 23,
     "metadata": {},
     "output_type": "execute_result"
    },
    {
     "data": {
      "image/png": "[encoded data removed]",
      "text/plain": [
       "<Figure size 432x288 with 1 Axes>"
      ]
     },
     "metadata": {},
     "output_type": "display_data"
    }
   ],
   "source": [
    "boot_7d['difference'] = (boot_7d['gate_30'] - boot_7d['gate_40'])/boot_7d['gate_40'] * 100\n",
    "ax = boot_7d['difference'].plot.kde()\n",
    "ax.set_xlabel('Разница между группамим, %')\n",
    "ax.set_title('разница')"
   ]
  },
  {
   "cell_type": "code",
   "execution_count": 24,
   "id": "23a10241",
   "metadata": {},
   "outputs": [
    {
     "data": {
      "text/plain": [
       "1.0"
      ]
     },
     "execution_count": 24,
     "metadata": {},
     "output_type": "execute_result"
    }
   ],
   "source": [
    "prob7 = (boot_7d['difference']>0).sum()/len(boot_7d['difference'])\n",
    "prob7"
   ]
  },
  {
   "cell_type": "markdown",
   "id": "8fe5f55d",
   "metadata": {},
   "source": [
    "### Вывод.\n",
    "\n",
    "Мы видим статистическую значимость и более ярко она выражается на 7 дневном сроке. \n",
    "\n",
    "Чтобы удержание пользователей было высоким, нам не нужно перемещать ворота на 40 уровень. "
   ]
  },
  {
   "cell_type": "code",
   "execution_count": null,
   "id": "671e916a",
   "metadata": {},
   "outputs": [],
   "source": []
  },
  {
   "cell_type": "code",
   "execution_count": null,
   "id": "d0d9c953",
   "metadata": {},
   "outputs": [],
   "source": []
  }
 ],
 "metadata": {
  "kernelspec": {
   "display_name": "Python 3 (ipykernel)",
   "language": "python",
   "name": "python3"
  },
  "language_info": {
   "codemirror_mode": {
    "name": "ipython",
    "version": 3
   },
   "file_extension": ".py",
   "mimetype": "text/x-python",
   "name": "python",
   "nbconvert_exporter": "python",
   "pygments_lexer": "ipython3",
   "version": "3.9.12"
  }
 },
 "nbformat": 4,
 "nbformat_minor": 5
}
